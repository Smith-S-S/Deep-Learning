{
 "cells": [
  {
   "cell_type": "code",
   "execution_count": 1,
   "id": "7b6fbc9d",
   "metadata": {},
   "outputs": [],
   "source": [
    "import pandas as pd\n",
    "from matplotlib import pyplot as plt\n",
    "import numpy as np\n",
    "%matplotlib inline"
   ]
  },
  {
   "cell_type": "code",
   "execution_count": 58,
   "id": "6e478bd3",
   "metadata": {},
   "outputs": [],
   "source": [
    "df=pd.read_csv(\"Churn_Modelling.csv\")"
   ]
  },
  {
   "cell_type": "code",
   "execution_count": 59,
   "id": "f0d5fd5b",
   "metadata": {},
   "outputs": [
    {
     "data": {
      "text/html": [
       "<div>\n",
       "<style scoped>\n",
       "    .dataframe tbody tr th:only-of-type {\n",
       "        vertical-align: middle;\n",
       "    }\n",
       "\n",
       "    .dataframe tbody tr th {\n",
       "        vertical-align: top;\n",
       "    }\n",
       "\n",
       "    .dataframe thead th {\n",
       "        text-align: right;\n",
       "    }\n",
       "</style>\n",
       "<table border=\"1\" class=\"dataframe\">\n",
       "  <thead>\n",
       "    <tr style=\"text-align: right;\">\n",
       "      <th></th>\n",
       "      <th>RowNumber</th>\n",
       "      <th>CustomerId</th>\n",
       "      <th>Surname</th>\n",
       "      <th>CreditScore</th>\n",
       "      <th>Geography</th>\n",
       "      <th>Gender</th>\n",
       "      <th>Age</th>\n",
       "      <th>Tenure</th>\n",
       "      <th>Balance</th>\n",
       "      <th>NumOfProducts</th>\n",
       "      <th>HasCrCard</th>\n",
       "      <th>IsActiveMember</th>\n",
       "      <th>EstimatedSalary</th>\n",
       "      <th>Exited</th>\n",
       "    </tr>\n",
       "  </thead>\n",
       "  <tbody>\n",
       "    <tr>\n",
       "      <th>0</th>\n",
       "      <td>1</td>\n",
       "      <td>15634602</td>\n",
       "      <td>Hargrave</td>\n",
       "      <td>619</td>\n",
       "      <td>France</td>\n",
       "      <td>Female</td>\n",
       "      <td>42</td>\n",
       "      <td>2</td>\n",
       "      <td>0.00</td>\n",
       "      <td>1</td>\n",
       "      <td>1</td>\n",
       "      <td>1</td>\n",
       "      <td>101348.88</td>\n",
       "      <td>1</td>\n",
       "    </tr>\n",
       "    <tr>\n",
       "      <th>1</th>\n",
       "      <td>2</td>\n",
       "      <td>15647311</td>\n",
       "      <td>Hill</td>\n",
       "      <td>608</td>\n",
       "      <td>Spain</td>\n",
       "      <td>Female</td>\n",
       "      <td>41</td>\n",
       "      <td>1</td>\n",
       "      <td>83807.86</td>\n",
       "      <td>1</td>\n",
       "      <td>0</td>\n",
       "      <td>1</td>\n",
       "      <td>112542.58</td>\n",
       "      <td>0</td>\n",
       "    </tr>\n",
       "    <tr>\n",
       "      <th>2</th>\n",
       "      <td>3</td>\n",
       "      <td>15619304</td>\n",
       "      <td>Onio</td>\n",
       "      <td>502</td>\n",
       "      <td>France</td>\n",
       "      <td>Female</td>\n",
       "      <td>42</td>\n",
       "      <td>8</td>\n",
       "      <td>159660.80</td>\n",
       "      <td>3</td>\n",
       "      <td>1</td>\n",
       "      <td>0</td>\n",
       "      <td>113931.57</td>\n",
       "      <td>1</td>\n",
       "    </tr>\n",
       "    <tr>\n",
       "      <th>3</th>\n",
       "      <td>4</td>\n",
       "      <td>15701354</td>\n",
       "      <td>Boni</td>\n",
       "      <td>699</td>\n",
       "      <td>France</td>\n",
       "      <td>Female</td>\n",
       "      <td>39</td>\n",
       "      <td>1</td>\n",
       "      <td>0.00</td>\n",
       "      <td>2</td>\n",
       "      <td>0</td>\n",
       "      <td>0</td>\n",
       "      <td>93826.63</td>\n",
       "      <td>0</td>\n",
       "    </tr>\n",
       "    <tr>\n",
       "      <th>4</th>\n",
       "      <td>5</td>\n",
       "      <td>15737888</td>\n",
       "      <td>Mitchell</td>\n",
       "      <td>850</td>\n",
       "      <td>Spain</td>\n",
       "      <td>Female</td>\n",
       "      <td>43</td>\n",
       "      <td>2</td>\n",
       "      <td>125510.82</td>\n",
       "      <td>1</td>\n",
       "      <td>1</td>\n",
       "      <td>1</td>\n",
       "      <td>79084.10</td>\n",
       "      <td>0</td>\n",
       "    </tr>\n",
       "  </tbody>\n",
       "</table>\n",
       "</div>"
      ],
      "text/plain": [
       "   RowNumber  CustomerId   Surname  CreditScore Geography  Gender  Age  \\\n",
       "0          1    15634602  Hargrave          619    France  Female   42   \n",
       "1          2    15647311      Hill          608     Spain  Female   41   \n",
       "2          3    15619304      Onio          502    France  Female   42   \n",
       "3          4    15701354      Boni          699    France  Female   39   \n",
       "4          5    15737888  Mitchell          850     Spain  Female   43   \n",
       "\n",
       "   Tenure    Balance  NumOfProducts  HasCrCard  IsActiveMember  \\\n",
       "0       2       0.00              1          1               1   \n",
       "1       1   83807.86              1          0               1   \n",
       "2       8  159660.80              3          1               0   \n",
       "3       1       0.00              2          0               0   \n",
       "4       2  125510.82              1          1               1   \n",
       "\n",
       "   EstimatedSalary  Exited  \n",
       "0        101348.88       1  \n",
       "1        112542.58       0  \n",
       "2        113931.57       1  \n",
       "3         93826.63       0  \n",
       "4         79084.10       0  "
      ]
     },
     "execution_count": 59,
     "metadata": {},
     "output_type": "execute_result"
    }
   ],
   "source": [
    "df.head(5)"
   ]
  },
  {
   "cell_type": "code",
   "execution_count": 60,
   "id": "1782115f",
   "metadata": {
    "scrolled": true
   },
   "outputs": [
    {
     "data": {
      "text/plain": [
       "RowNumber            int64\n",
       "CustomerId           int64\n",
       "Surname             object\n",
       "CreditScore          int64\n",
       "Geography           object\n",
       "Gender              object\n",
       "Age                  int64\n",
       "Tenure               int64\n",
       "Balance            float64\n",
       "NumOfProducts        int64\n",
       "HasCrCard            int64\n",
       "IsActiveMember       int64\n",
       "EstimatedSalary    float64\n",
       "Exited               int64\n",
       "dtype: object"
      ]
     },
     "execution_count": 60,
     "metadata": {},
     "output_type": "execute_result"
    }
   ],
   "source": [
    "df.dtypes"
   ]
  },
  {
   "cell_type": "code",
   "execution_count": 62,
   "id": "182872e1",
   "metadata": {},
   "outputs": [
    {
     "data": {
      "text/plain": [
       "array(['France', 'Spain', 'Germany'], dtype=object)"
      ]
     },
     "execution_count": 62,
     "metadata": {},
     "output_type": "execute_result"
    }
   ],
   "source": [
    "df[\"Geography\"].unique()"
   ]
  },
  {
   "cell_type": "code",
   "execution_count": 63,
   "id": "8f6c1915",
   "metadata": {},
   "outputs": [],
   "source": [
    "df.drop([\"RowNumber\",\"CustomerId\",\"Surname\"],axis=\"columns\",inplace=True)"
   ]
  },
  {
   "cell_type": "code",
   "execution_count": 64,
   "id": "5d248de8",
   "metadata": {},
   "outputs": [
    {
     "data": {
      "text/plain": [
       "array(['Female', 'Male'], dtype=object)"
      ]
     },
     "execution_count": 64,
     "metadata": {},
     "output_type": "execute_result"
    }
   ],
   "source": [
    "df[\"Gender\"].unique()"
   ]
  },
  {
   "cell_type": "code",
   "execution_count": 65,
   "id": "262c705e",
   "metadata": {},
   "outputs": [],
   "source": [
    "def check(df):\n",
    "    for i in df:\n",
    "        if df[i].dtypes==\"object\":\n",
    "            print(f\"{i} : {df[i].unique()}\")"
   ]
  },
  {
   "cell_type": "code",
   "execution_count": 66,
   "id": "4b5f56ef",
   "metadata": {},
   "outputs": [
    {
     "name": "stdout",
     "output_type": "stream",
     "text": [
      "Geography : ['France' 'Spain' 'Germany']\n",
      "Gender : ['Female' 'Male']\n"
     ]
    }
   ],
   "source": [
    "check(df)"
   ]
  },
  {
   "cell_type": "code",
   "execution_count": 67,
   "id": "25fea59d",
   "metadata": {},
   "outputs": [],
   "source": [
    "df[\"Gender\"].replace({\"Female\":1,\"Male\":0},inplace=True)"
   ]
  },
  {
   "cell_type": "markdown",
   "id": "2544830a",
   "metadata": {},
   "source": [
    "# one hot encding \n"
   ]
  },
  {
   "cell_type": "code",
   "execution_count": 76,
   "id": "d5fd3eb5",
   "metadata": {},
   "outputs": [],
   "source": [
    "df=pd.get_dummies(data=df,columns= [\"Geography\"])"
   ]
  },
  {
   "cell_type": "code",
   "execution_count": 77,
   "id": "ed5ad32c",
   "metadata": {},
   "outputs": [
    {
     "data": {
      "text/html": [
       "<div>\n",
       "<style scoped>\n",
       "    .dataframe tbody tr th:only-of-type {\n",
       "        vertical-align: middle;\n",
       "    }\n",
       "\n",
       "    .dataframe tbody tr th {\n",
       "        vertical-align: top;\n",
       "    }\n",
       "\n",
       "    .dataframe thead th {\n",
       "        text-align: right;\n",
       "    }\n",
       "</style>\n",
       "<table border=\"1\" class=\"dataframe\">\n",
       "  <thead>\n",
       "    <tr style=\"text-align: right;\">\n",
       "      <th></th>\n",
       "      <th>CreditScore</th>\n",
       "      <th>Gender</th>\n",
       "      <th>Age</th>\n",
       "      <th>Tenure</th>\n",
       "      <th>Balance</th>\n",
       "      <th>NumOfProducts</th>\n",
       "      <th>HasCrCard</th>\n",
       "      <th>IsActiveMember</th>\n",
       "      <th>EstimatedSalary</th>\n",
       "      <th>Exited</th>\n",
       "      <th>Geography_France</th>\n",
       "      <th>Geography_Germany</th>\n",
       "      <th>Geography_Spain</th>\n",
       "    </tr>\n",
       "  </thead>\n",
       "  <tbody>\n",
       "    <tr>\n",
       "      <th>0</th>\n",
       "      <td>619</td>\n",
       "      <td>1</td>\n",
       "      <td>42</td>\n",
       "      <td>2</td>\n",
       "      <td>0.00</td>\n",
       "      <td>1</td>\n",
       "      <td>1</td>\n",
       "      <td>1</td>\n",
       "      <td>101348.88</td>\n",
       "      <td>1</td>\n",
       "      <td>1</td>\n",
       "      <td>0</td>\n",
       "      <td>0</td>\n",
       "    </tr>\n",
       "    <tr>\n",
       "      <th>1</th>\n",
       "      <td>608</td>\n",
       "      <td>1</td>\n",
       "      <td>41</td>\n",
       "      <td>1</td>\n",
       "      <td>83807.86</td>\n",
       "      <td>1</td>\n",
       "      <td>0</td>\n",
       "      <td>1</td>\n",
       "      <td>112542.58</td>\n",
       "      <td>0</td>\n",
       "      <td>0</td>\n",
       "      <td>0</td>\n",
       "      <td>1</td>\n",
       "    </tr>\n",
       "    <tr>\n",
       "      <th>2</th>\n",
       "      <td>502</td>\n",
       "      <td>1</td>\n",
       "      <td>42</td>\n",
       "      <td>8</td>\n",
       "      <td>159660.80</td>\n",
       "      <td>3</td>\n",
       "      <td>1</td>\n",
       "      <td>0</td>\n",
       "      <td>113931.57</td>\n",
       "      <td>1</td>\n",
       "      <td>1</td>\n",
       "      <td>0</td>\n",
       "      <td>0</td>\n",
       "    </tr>\n",
       "    <tr>\n",
       "      <th>3</th>\n",
       "      <td>699</td>\n",
       "      <td>1</td>\n",
       "      <td>39</td>\n",
       "      <td>1</td>\n",
       "      <td>0.00</td>\n",
       "      <td>2</td>\n",
       "      <td>0</td>\n",
       "      <td>0</td>\n",
       "      <td>93826.63</td>\n",
       "      <td>0</td>\n",
       "      <td>1</td>\n",
       "      <td>0</td>\n",
       "      <td>0</td>\n",
       "    </tr>\n",
       "    <tr>\n",
       "      <th>4</th>\n",
       "      <td>850</td>\n",
       "      <td>1</td>\n",
       "      <td>43</td>\n",
       "      <td>2</td>\n",
       "      <td>125510.82</td>\n",
       "      <td>1</td>\n",
       "      <td>1</td>\n",
       "      <td>1</td>\n",
       "      <td>79084.10</td>\n",
       "      <td>0</td>\n",
       "      <td>0</td>\n",
       "      <td>0</td>\n",
       "      <td>1</td>\n",
       "    </tr>\n",
       "  </tbody>\n",
       "</table>\n",
       "</div>"
      ],
      "text/plain": [
       "   CreditScore  Gender  Age  Tenure    Balance  NumOfProducts  HasCrCard  \\\n",
       "0          619       1   42       2       0.00              1          1   \n",
       "1          608       1   41       1   83807.86              1          0   \n",
       "2          502       1   42       8  159660.80              3          1   \n",
       "3          699       1   39       1       0.00              2          0   \n",
       "4          850       1   43       2  125510.82              1          1   \n",
       "\n",
       "   IsActiveMember  EstimatedSalary  Exited  Geography_France  \\\n",
       "0               1        101348.88       1                 1   \n",
       "1               1        112542.58       0                 0   \n",
       "2               0        113931.57       1                 1   \n",
       "3               0         93826.63       0                 1   \n",
       "4               1         79084.10       0                 0   \n",
       "\n",
       "   Geography_Germany  Geography_Spain  \n",
       "0                  0                0  \n",
       "1                  0                1  \n",
       "2                  0                0  \n",
       "3                  0                0  \n",
       "4                  0                1  "
      ]
     },
     "execution_count": 77,
     "metadata": {},
     "output_type": "execute_result"
    }
   ],
   "source": [
    "df.head()"
   ]
  },
  {
   "cell_type": "code",
   "execution_count": 78,
   "id": "07552240",
   "metadata": {},
   "outputs": [],
   "source": [
    "from sklearn.preprocessing import MinMaxScaler\n",
    "scalar=MinMaxScaler()\n",
    "column=[\"CreditScore\",\"Balance\",\"EstimatedSalary\",\"Tenure\",\"NumOfProducts\"]\n",
    "df[column]=scalar.fit_transform(df[column])"
   ]
  },
  {
   "cell_type": "code",
   "execution_count": 79,
   "id": "909097a3",
   "metadata": {},
   "outputs": [
    {
     "data": {
      "text/plain": [
       "CreditScore          float64\n",
       "Gender                 int64\n",
       "Age                    int64\n",
       "Tenure               float64\n",
       "Balance              float64\n",
       "NumOfProducts        float64\n",
       "HasCrCard              int64\n",
       "IsActiveMember         int64\n",
       "EstimatedSalary      float64\n",
       "Exited                 int64\n",
       "Geography_France       uint8\n",
       "Geography_Germany      uint8\n",
       "Geography_Spain        uint8\n",
       "dtype: object"
      ]
     },
     "execution_count": 79,
     "metadata": {},
     "output_type": "execute_result"
    }
   ],
   "source": [
    "df.dtypes"
   ]
  },
  {
   "cell_type": "code",
   "execution_count": 80,
   "id": "898bdeb4",
   "metadata": {},
   "outputs": [],
   "source": [
    "x=df.drop(\"Exited\",axis=\"columns\")\n",
    "y=df[\"Exited\"]"
   ]
  },
  {
   "cell_type": "code",
   "execution_count": 81,
   "id": "a48bfdff",
   "metadata": {},
   "outputs": [],
   "source": [
    "from sklearn.model_selection import train_test_split\n",
    "x_train,x_test,y_train,y_test=train_test_split(x,y,test_size=0.2,random_state=5)\n"
   ]
  },
  {
   "cell_type": "code",
   "execution_count": 82,
   "id": "35cfdfe6",
   "metadata": {},
   "outputs": [
    {
     "data": {
      "text/plain": [
       "(8000, 12)"
      ]
     },
     "execution_count": 82,
     "metadata": {},
     "output_type": "execute_result"
    }
   ],
   "source": [
    "x_train.shape"
   ]
  },
  {
   "cell_type": "code",
   "execution_count": 83,
   "id": "d5a1b24d",
   "metadata": {},
   "outputs": [
    {
     "data": {
      "text/plain": [
       "(8000,)"
      ]
     },
     "execution_count": 83,
     "metadata": {},
     "output_type": "execute_result"
    }
   ],
   "source": [
    "y_train.shape"
   ]
  },
  {
   "cell_type": "code",
   "execution_count": 85,
   "id": "7183fb75",
   "metadata": {},
   "outputs": [],
   "source": [
    "import tensorflow as tf\n",
    "from tensorflow import keras"
   ]
  },
  {
   "cell_type": "code",
   "execution_count": 86,
   "id": "75f4ea5f",
   "metadata": {},
   "outputs": [],
   "source": [
    "model=keras.Sequential([\n",
    "    keras.layers.Dense(10,input_shape=(12,),activation=\"relu\"),\n",
    "     keras.layers.Dense(6, activation='relu'),\n",
    "    keras.layers.Dense(1,activation=\"sigmoid\")\n",
    "])"
   ]
  },
  {
   "cell_type": "markdown",
   "id": "7fff5bca",
   "metadata": {},
   "source": [
    "# "
   ]
  },
  {
   "cell_type": "code",
   "execution_count": 87,
   "id": "8c391b66",
   "metadata": {},
   "outputs": [],
   "source": [
    "model.compile(optimizer='adam',\n",
    "             loss=\"binary_crossentropy\",\n",
    "             metrics=[\"accuracy\"])"
   ]
  },
  {
   "cell_type": "code",
   "execution_count": 92,
   "id": "a9143ad4",
   "metadata": {
    "scrolled": false
   },
   "outputs": [
    {
     "name": "stdout",
     "output_type": "stream",
     "text": [
      "Epoch 1/95\n",
      "250/250 [==============================] - 0s 925us/step - loss: 0.4136 - accuracy: 0.8267\n",
      "Epoch 2/95\n",
      "250/250 [==============================] - 0s 761us/step - loss: 0.4136 - accuracy: 0.8281\n",
      "Epoch 3/95\n",
      "250/250 [==============================] - 0s 847us/step - loss: 0.4131 - accuracy: 0.8275\n",
      "Epoch 4/95\n",
      "250/250 [==============================] - 0s 801us/step - loss: 0.4126 - accuracy: 0.8281\n",
      "Epoch 5/95\n",
      "250/250 [==============================] - 0s 971us/step - loss: 0.4126 - accuracy: 0.8288\n",
      "Epoch 6/95\n",
      "250/250 [==============================] - 0s 887us/step - loss: 0.4125 - accuracy: 0.8286\n",
      "Epoch 7/95\n",
      "250/250 [==============================] - 0s 996us/step - loss: 0.4122 - accuracy: 0.8292\n",
      "Epoch 8/95\n",
      "250/250 [==============================] - 0s 852us/step - loss: 0.4119 - accuracy: 0.8284\n",
      "Epoch 9/95\n",
      "250/250 [==============================] - 0s 771us/step - loss: 0.4133 - accuracy: 0.8276\n",
      "Epoch 10/95\n",
      "250/250 [==============================] - 0s 773us/step - loss: 0.4129 - accuracy: 0.8275\n",
      "Epoch 11/95\n",
      "250/250 [==============================] - 0s 879us/step - loss: 0.4126 - accuracy: 0.8275\n",
      "Epoch 12/95\n",
      "250/250 [==============================] - 0s 916us/step - loss: 0.4107 - accuracy: 0.8281\n",
      "Epoch 13/95\n",
      "250/250 [==============================] - 0s 891us/step - loss: 0.4117 - accuracy: 0.8299\n",
      "Epoch 14/95\n",
      "250/250 [==============================] - 0s 842us/step - loss: 0.4103 - accuracy: 0.8286\n",
      "Epoch 15/95\n",
      "250/250 [==============================] - 0s 822us/step - loss: 0.4119 - accuracy: 0.8310\n",
      "Epoch 16/95\n",
      "250/250 [==============================] - 0s 780us/step - loss: 0.4110 - accuracy: 0.8303\n",
      "Epoch 17/95\n",
      "250/250 [==============================] - 0s 796us/step - loss: 0.4107 - accuracy: 0.8296\n",
      "Epoch 18/95\n",
      "250/250 [==============================] - 0s 896us/step - loss: 0.4107 - accuracy: 0.8284\n",
      "Epoch 19/95\n",
      "250/250 [==============================] - 0s 878us/step - loss: 0.4107 - accuracy: 0.8284\n",
      "Epoch 20/95\n",
      "250/250 [==============================] - 0s 860us/step - loss: 0.4109 - accuracy: 0.8291\n",
      "Epoch 21/95\n",
      "250/250 [==============================] - 0s 787us/step - loss: 0.4102 - accuracy: 0.8309\n",
      "Epoch 22/95\n",
      "250/250 [==============================] - 0s 849us/step - loss: 0.4102 - accuracy: 0.8300\n",
      "Epoch 23/95\n",
      "250/250 [==============================] - 0s 886us/step - loss: 0.4095 - accuracy: 0.8310\n",
      "Epoch 24/95\n",
      "250/250 [==============================] - 0s 817us/step - loss: 0.4084 - accuracy: 0.8328\n",
      "Epoch 25/95\n",
      "250/250 [==============================] - 0s 774us/step - loss: 0.4096 - accuracy: 0.8303\n",
      "Epoch 26/95\n",
      "250/250 [==============================] - 0s 896us/step - loss: 0.4091 - accuracy: 0.8310\n",
      "Epoch 27/95\n",
      "250/250 [==============================] - 0s 955us/step - loss: 0.4088 - accuracy: 0.8325\n",
      "Epoch 28/95\n",
      "250/250 [==============================] - 0s 850us/step - loss: 0.4102 - accuracy: 0.8280\n",
      "Epoch 29/95\n",
      "250/250 [==============================] - 0s 842us/step - loss: 0.4083 - accuracy: 0.8322\n",
      "Epoch 30/95\n",
      "250/250 [==============================] - 0s 965us/step - loss: 0.4088 - accuracy: 0.8291\n",
      "Epoch 31/95\n",
      "250/250 [==============================] - 0s 799us/step - loss: 0.4078 - accuracy: 0.8335\n",
      "Epoch 32/95\n",
      "250/250 [==============================] - 0s 842us/step - loss: 0.4090 - accuracy: 0.8311\n",
      "Epoch 33/95\n",
      "250/250 [==============================] - 0s 927us/step - loss: 0.4081 - accuracy: 0.8317\n",
      "Epoch 34/95\n",
      "250/250 [==============================] - 0s 798us/step - loss: 0.4092 - accuracy: 0.8298\n",
      "Epoch 35/95\n",
      "250/250 [==============================] - 0s 789us/step - loss: 0.4087 - accuracy: 0.8309\n",
      "Epoch 36/95\n",
      "250/250 [==============================] - 0s 879us/step - loss: 0.4079 - accuracy: 0.8336\n",
      "Epoch 37/95\n",
      "250/250 [==============================] - 0s 1ms/step - loss: 0.4075 - accuracy: 0.8326\n",
      "Epoch 38/95\n",
      "250/250 [==============================] - 0s 824us/step - loss: 0.4067 - accuracy: 0.8338\n",
      "Epoch 39/95\n",
      "250/250 [==============================] - 0s 960us/step - loss: 0.4077 - accuracy: 0.8339\n",
      "Epoch 40/95\n",
      "250/250 [==============================] - 0s 1ms/step - loss: 0.4079 - accuracy: 0.8309\n",
      "Epoch 41/95\n",
      "250/250 [==============================] - 0s 1ms/step - loss: 0.4071 - accuracy: 0.8332\n",
      "Epoch 42/95\n",
      "250/250 [==============================] - 0s 1ms/step - loss: 0.4082 - accuracy: 0.8320\n",
      "Epoch 43/95\n",
      "250/250 [==============================] - 0s 833us/step - loss: 0.4077 - accuracy: 0.8340\n",
      "Epoch 44/95\n",
      "250/250 [==============================] - 0s 802us/step - loss: 0.4076 - accuracy: 0.8336\n",
      "Epoch 45/95\n",
      "250/250 [==============================] - 0s 801us/step - loss: 0.4075 - accuracy: 0.8330\n",
      "Epoch 46/95\n",
      "250/250 [==============================] - 0s 977us/step - loss: 0.4067 - accuracy: 0.8344\n",
      "Epoch 47/95\n",
      "250/250 [==============================] - 0s 904us/step - loss: 0.4068 - accuracy: 0.8328\n",
      "Epoch 48/95\n",
      "250/250 [==============================] - 0s 831us/step - loss: 0.4080 - accuracy: 0.8309\n",
      "Epoch 49/95\n",
      "250/250 [==============================] - 0s 1ms/step - loss: 0.4058 - accuracy: 0.8331\n",
      "Epoch 50/95\n",
      "250/250 [==============================] - 0s 879us/step - loss: 0.4059 - accuracy: 0.8321\n",
      "Epoch 51/95\n",
      "250/250 [==============================] - 0s 837us/step - loss: 0.4060 - accuracy: 0.8338\n",
      "Epoch 52/95\n",
      "250/250 [==============================] - 0s 1ms/step - loss: 0.4060 - accuracy: 0.8339\n",
      "Epoch 53/95\n",
      "250/250 [==============================] - 0s 850us/step - loss: 0.4049 - accuracy: 0.8349\n",
      "Epoch 54/95\n",
      "250/250 [==============================] - 0s 790us/step - loss: 0.4066 - accuracy: 0.8339\n",
      "Epoch 55/95\n",
      "250/250 [==============================] - 0s 801us/step - loss: 0.4053 - accuracy: 0.8350\n",
      "Epoch 56/95\n",
      "250/250 [==============================] - 0s 907us/step - loss: 0.4049 - accuracy: 0.8335\n",
      "Epoch 57/95\n",
      "250/250 [==============================] - 0s 800us/step - loss: 0.4053 - accuracy: 0.8353\n",
      "Epoch 58/95\n",
      "250/250 [==============================] - 0s 771us/step - loss: 0.4047 - accuracy: 0.8330\n",
      "Epoch 59/95\n",
      "250/250 [==============================] - 0s 780us/step - loss: 0.4050 - accuracy: 0.8340\n",
      "Epoch 60/95\n",
      "250/250 [==============================] - 0s 890us/step - loss: 0.4051 - accuracy: 0.8341\n",
      "Epoch 61/95\n",
      "250/250 [==============================] - 0s 864us/step - loss: 0.4064 - accuracy: 0.8330\n",
      "Epoch 62/95\n",
      "250/250 [==============================] - 0s 826us/step - loss: 0.4041 - accuracy: 0.8345\n",
      "Epoch 63/95\n",
      "250/250 [==============================] - 0s 798us/step - loss: 0.4039 - accuracy: 0.8344\n",
      "Epoch 64/95\n",
      "250/250 [==============================] - 0s 889us/step - loss: 0.4041 - accuracy: 0.8345\n",
      "Epoch 65/95\n",
      "250/250 [==============================] - 0s 829us/step - loss: 0.4043 - accuracy: 0.8354\n",
      "Epoch 66/95\n",
      "250/250 [==============================] - 0s 821us/step - loss: 0.4039 - accuracy: 0.8346\n",
      "Epoch 67/95\n",
      "250/250 [==============================] - 0s 809us/step - loss: 0.4037 - accuracy: 0.8354\n",
      "Epoch 68/95\n",
      "250/250 [==============================] - 0s 931us/step - loss: 0.4047 - accuracy: 0.8334\n",
      "Epoch 69/95\n",
      "250/250 [==============================] - 0s 857us/step - loss: 0.4036 - accuracy: 0.8332\n",
      "Epoch 70/95\n",
      "250/250 [==============================] - 0s 804us/step - loss: 0.4033 - accuracy: 0.8338\n",
      "Epoch 71/95\n",
      "250/250 [==============================] - 0s 837us/step - loss: 0.4041 - accuracy: 0.8365\n",
      "Epoch 72/95\n",
      "250/250 [==============================] - 0s 902us/step - loss: 0.4028 - accuracy: 0.8341\n",
      "Epoch 73/95\n",
      "250/250 [==============================] - 0s 795us/step - loss: 0.4027 - accuracy: 0.8339\n",
      "Epoch 74/95\n",
      "250/250 [==============================] - 0s 856us/step - loss: 0.4027 - accuracy: 0.8340\n",
      "Epoch 75/95\n",
      "250/250 [==============================] - 0s 912us/step - loss: 0.4020 - accuracy: 0.8374\n",
      "Epoch 76/95\n",
      "250/250 [==============================] - 0s 793us/step - loss: 0.4030 - accuracy: 0.8344\n",
      "Epoch 77/95\n",
      "250/250 [==============================] - 0s 790us/step - loss: 0.4015 - accuracy: 0.8359\n",
      "Epoch 78/95\n",
      "250/250 [==============================] - 0s 927us/step - loss: 0.4037 - accuracy: 0.8346\n",
      "Epoch 79/95\n",
      "250/250 [==============================] - 0s 830us/step - loss: 0.4013 - accuracy: 0.8371\n",
      "Epoch 80/95\n",
      "250/250 [==============================] - 0s 786us/step - loss: 0.4020 - accuracy: 0.8359\n",
      "Epoch 81/95\n",
      "250/250 [==============================] - 0s 788us/step - loss: 0.4020 - accuracy: 0.8363\n",
      "Epoch 82/95\n",
      "250/250 [==============================] - 0s 859us/step - loss: 0.4027 - accuracy: 0.8363\n",
      "Epoch 83/95\n",
      "250/250 [==============================] - 0s 843us/step - loss: 0.4023 - accuracy: 0.8344\n",
      "Epoch 84/95\n",
      "250/250 [==============================] - 0s 798us/step - loss: 0.4035 - accuracy: 0.8372\n",
      "Epoch 85/95\n",
      "250/250 [==============================] - 0s 864us/step - loss: 0.4025 - accuracy: 0.8354\n",
      "Epoch 86/95\n",
      "250/250 [==============================] - 0s 852us/step - loss: 0.4013 - accuracy: 0.8355\n",
      "Epoch 87/95\n",
      "250/250 [==============================] - 0s 772us/step - loss: 0.4012 - accuracy: 0.8356\n",
      "Epoch 88/95\n",
      "250/250 [==============================] - 0s 774us/step - loss: 0.4008 - accuracy: 0.8350\n",
      "Epoch 89/95\n",
      "250/250 [==============================] - 0s 886us/step - loss: 0.4016 - accuracy: 0.8365\n",
      "Epoch 90/95\n",
      "250/250 [==============================] - 0s 802us/step - loss: 0.4015 - accuracy: 0.8360\n",
      "Epoch 91/95\n",
      "250/250 [==============================] - 0s 776us/step - loss: 0.4015 - accuracy: 0.8370\n",
      "Epoch 92/95\n",
      "250/250 [==============================] - 0s 776us/step - loss: 0.4006 - accuracy: 0.8380\n",
      "Epoch 93/95\n",
      "250/250 [==============================] - 0s 882us/step - loss: 0.4002 - accuracy: 0.8380\n",
      "Epoch 94/95\n",
      "250/250 [==============================] - 0s 839us/step - loss: 0.4004 - accuracy: 0.8363\n",
      "Epoch 95/95\n",
      "250/250 [==============================] - 0s 782us/step - loss: 0.4008 - accuracy: 0.8385\n"
     ]
    },
    {
     "data": {
      "text/plain": [
       "<keras.callbacks.History at 0x7fa5696efca0>"
      ]
     },
     "execution_count": 92,
     "metadata": {},
     "output_type": "execute_result"
    }
   ],
   "source": [
    "model.fit(x_train,y_train,epochs=95)"
   ]
  },
  {
   "cell_type": "code",
   "execution_count": 93,
   "id": "f76d18cc",
   "metadata": {},
   "outputs": [
    {
     "name": "stdout",
     "output_type": "stream",
     "text": [
      "63/63 [==============================] - 0s 988us/step - loss: 0.4042 - accuracy: 0.8290\n"
     ]
    },
    {
     "data": {
      "text/plain": [
       "[0.4042336940765381, 0.8289999961853027]"
      ]
     },
     "execution_count": 93,
     "metadata": {},
     "output_type": "execute_result"
    }
   ],
   "source": [
    "model.evaluate(x_test,y_test)"
   ]
  },
  {
   "cell_type": "code",
   "execution_count": 99,
   "id": "3140db23",
   "metadata": {},
   "outputs": [
    {
     "name": "stdout",
     "output_type": "stream",
     "text": [
      "63/63 [==============================] - 0s 953us/step\n"
     ]
    }
   ],
   "source": [
    "yb=model.predict(x_test)"
   ]
  },
  {
   "cell_type": "code",
   "execution_count": 100,
   "id": "7ec073c0",
   "metadata": {},
   "outputs": [
    {
     "data": {
      "text/plain": [
       "2000"
      ]
     },
     "execution_count": 100,
     "metadata": {},
     "output_type": "execute_result"
    }
   ],
   "source": [
    "len(yb)"
   ]
  },
  {
   "cell_type": "code",
   "execution_count": 111,
   "id": "8b8ff13b",
   "metadata": {},
   "outputs": [
    {
     "data": {
      "text/plain": [
       "array([[0.09721568],\n",
       "       [0.09470464],\n",
       "       [0.09425397],\n",
       "       ...,\n",
       "       [0.06478832],\n",
       "       [0.06907573],\n",
       "       [0.10186916]], dtype=float32)"
      ]
     },
     "execution_count": 111,
     "metadata": {},
     "output_type": "execute_result"
    }
   ],
   "source": [
    "yb\n"
   ]
  },
  {
   "cell_type": "code",
   "execution_count": 107,
   "id": "317da67d",
   "metadata": {},
   "outputs": [],
   "source": [
    "y_predict=[]\n",
    "for i in yb:\n",
    "    if i>=0.5:\n",
    "        y_predict.append(1)\n",
    "    else:\n",
    "        y_predict.append(0)"
   ]
  },
  {
   "cell_type": "code",
   "execution_count": 112,
   "id": "68489f56",
   "metadata": {},
   "outputs": [
    {
     "name": "stdout",
     "output_type": "stream",
     "text": [
      "              precision    recall  f1-score   support\n",
      "\n",
      "           0       0.85      0.95      0.90      1595\n",
      "           1       0.64      0.35      0.45       405\n",
      "\n",
      "    accuracy                           0.83      2000\n",
      "   macro avg       0.75      0.65      0.68      2000\n",
      "weighted avg       0.81      0.83      0.81      2000\n",
      "\n"
     ]
    }
   ],
   "source": [
    "from sklearn.metrics import confusion_matrix, classification_report\n",
    "print (classification_report(y_test,y_predict))"
   ]
  },
  {
   "cell_type": "code",
   "execution_count": 114,
   "id": "e7b95f4b",
   "metadata": {},
   "outputs": [
    {
     "name": "stdout",
     "output_type": "stream",
     "text": [
      "[[1516   79]\n",
      " [ 263  142]]\n"
     ]
    }
   ],
   "source": [
    "\n",
    "cf_matrix = confusion_matrix(y_test, y_predict)\n",
    "print(cf_matrix)\n",
    "\n"
   ]
  },
  {
   "cell_type": "code",
   "execution_count": 120,
   "id": "2512fe50",
   "metadata": {},
   "outputs": [
    {
     "name": "stdout",
     "output_type": "stream",
     "text": [
      "Requirement already satisfied: seaborn in ./opt/anaconda3/lib/python3.9/site-packages (0.11.2)\n",
      "Requirement already satisfied: pandas>=0.23 in ./opt/anaconda3/lib/python3.9/site-packages (from seaborn) (1.3.4)\n",
      "Requirement already satisfied: matplotlib>=2.2 in ./opt/anaconda3/lib/python3.9/site-packages (from seaborn) (3.4.3)\n",
      "Requirement already satisfied: numpy>=1.15 in ./opt/anaconda3/lib/python3.9/site-packages (from seaborn) (1.20.3)\n",
      "Requirement already satisfied: scipy>=1.0 in ./opt/anaconda3/lib/python3.9/site-packages (from seaborn) (1.7.1)\n",
      "Requirement already satisfied: python-dateutil>=2.7 in ./opt/anaconda3/lib/python3.9/site-packages (from matplotlib>=2.2->seaborn) (2.8.2)\n",
      "Requirement already satisfied: cycler>=0.10 in ./opt/anaconda3/lib/python3.9/site-packages (from matplotlib>=2.2->seaborn) (0.10.0)\n",
      "Requirement already satisfied: pyparsing>=2.2.1 in ./opt/anaconda3/lib/python3.9/site-packages (from matplotlib>=2.2->seaborn) (3.0.4)\n",
      "Requirement already satisfied: pillow>=6.2.0 in ./opt/anaconda3/lib/python3.9/site-packages (from matplotlib>=2.2->seaborn) (8.4.0)\n",
      "Requirement already satisfied: kiwisolver>=1.0.1 in ./opt/anaconda3/lib/python3.9/site-packages (from matplotlib>=2.2->seaborn) (1.3.1)\n",
      "Requirement already satisfied: six in ./opt/anaconda3/lib/python3.9/site-packages (from cycler>=0.10->matplotlib>=2.2->seaborn) (1.16.0)\n",
      "Requirement already satisfied: pytz>=2017.3 in ./opt/anaconda3/lib/python3.9/site-packages (from pandas>=0.23->seaborn) (2021.3)\n",
      "Note: you may need to restart the kernel to use updated packages.\n"
     ]
    }
   ],
   "source": [
    "pip install seaborn\n"
   ]
  },
  {
   "cell_type": "code",
   "execution_count": 125,
   "id": "ce1d9af2",
   "metadata": {},
   "outputs": [],
   "source": [
    "import seaborn"
   ]
  },
  {
   "cell_type": "code",
   "execution_count": 126,
   "id": "885082ce",
   "metadata": {},
   "outputs": [
    {
     "data": {
      "text/plain": [
       "<AxesSubplot:>"
      ]
     },
     "execution_count": 126,
     "metadata": {},
     "output_type": "execute_result"
    },
    {
     "data": {
      "image/png": "[encoded data removed]",
      "text/plain": [
       "<Figure size 360x360 with 2 Axes>"
      ]
     },
     "metadata": {
      "needs_background": "light"
     },
     "output_type": "display_data"
    }
   ],
   "source": [
    "\n",
    "fig, ax = plt.subplots(figsize=(5,5))\n",
    "seaborn.heatmap(cf_matrix, linewidths=1, annot=True, ax=ax, fmt='g')\n",
    "\n"
   ]
  },
  {
   "cell_type": "code",
   "execution_count": null,
   "id": "8d8bd3c6",
   "metadata": {},
   "outputs": [],
   "source": []
  }
 ],
 "metadata": {
  "kernelspec": {
   "display_name": "Python 3 (ipykernel)",
   "language": "python",
   "name": "python3"
  },
  "language_info": {
   "codemirror_mode": {
    "name": "ipython",
    "version": 3
   },
   "file_extension": ".py",
   "mimetype": "text/x-python",
   "name": "python",
   "nbconvert_exporter": "python",
   "pygments_lexer": "ipython3",
   "version": "3.9.7"
  }
 },
 "nbformat": 4,
 "nbformat_minor": 5
}
